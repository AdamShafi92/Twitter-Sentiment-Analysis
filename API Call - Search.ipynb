{
 "cells": [
  {
   "cell_type": "code",
   "execution_count": 1,
   "metadata": {},
   "outputs": [],
   "source": [
    "# Import the Twython class\n",
    "from twython import Twython\n",
    "import json\n",
    "import pandas as pd"
   ]
  },
  {
   "cell_type": "code",
   "execution_count": 2,
   "metadata": {},
   "outputs": [],
   "source": [
    "# Load credentials from json file\n",
    "with open(\"twitter_credentials.json\", \"r\") as file:\n",
    "    creds = json.load(file)"
   ]
  },
  {
   "cell_type": "code",
   "execution_count": 3,
   "metadata": {},
   "outputs": [],
   "source": [
    "# Instantiate an object using personal API key credentials\n",
    "python_tweets = Twython(creds['CONSUMER_KEY'], creds['CONSUMER_SECRET'])"
   ]
  },
  {
   "cell_type": "code",
   "execution_count": 4,
   "metadata": {},
   "outputs": [],
   "source": [
    "tweets = []\n",
    "MAX_ATTEMPTS = 150\n",
    "COUNT_OF_TWEETS_TO_BE_FETCHED = 15000\n",
    "dict_ = {'user': [], 'date': [], 'text': [], 'favorite_count': [], 'hashtags' : []}\n",
    "\n",
    "for i in range(0,MAX_ATTEMPTS):\n",
    "\n",
    "    if(COUNT_OF_TWEETS_TO_BE_FETCHED < len(dict_)):\n",
    "        break\n",
    "\n",
    "\n",
    "    # STEP 1: Query Twitter\n",
    "    if(0 == i):\n",
    "        # Query twitter for data. \n",
    "        results = python_tweets.search(q=\"#stocks\", until = '2020-08-11',count='100', result_type = 'recent')\n",
    "    else:\n",
    "        # After the first call we should have max_id from result of previous call. Pass it in query.\n",
    "        results = python_tweets.search(q=\"#stocks\",count ='100',include_entities='true',max_id=next_max_id,result_type = 'recent')\n",
    "\n",
    "    # STEP 2: Save the returned tweets\n",
    "    for result in results['statuses']:\n",
    "        dict_['user'].append(result['user']['screen_name'])\n",
    "        dict_['date'].append(result['created_at'])\n",
    "        dict_['text'].append(result['text'])\n",
    "        dict_['favorite_count'].append(result['favorite_count'])\n",
    "        dict_['hashtags'].append(result['entities']['hashtags'])\n",
    "\n",
    "\n",
    "    # STEP 3: Get the next max_id\n",
    "    try:\n",
    "        # Parse the data returned to get max_id to be passed in consequent call.\n",
    "        next_results_url_params = results['search_metadata']['next_results']\n",
    "        next_max_id = next_results_url_params.split('max_id=')[1].split('&')[0]\n",
    "    except:\n",
    "        # No more next pages\n",
    "        break"
   ]
  },
  {
   "cell_type": "code",
   "execution_count": 5,
   "metadata": {},
   "outputs": [],
   "source": [
    "# Structure data in a pandas DataFrame for easier manipulation\n",
    "df = pd.DataFrame(dict_)\n",
    "df.sort_values(by='favorite_count', inplace=True, ascending=False)\n",
    "df.to_csv('tweets08-2.csv')"
   ]
  },
  {
   "cell_type": "code",
   "execution_count": null,
   "metadata": {},
   "outputs": [],
   "source": []
  }
 ],
 "metadata": {
  "kernelspec": {
   "display_name": "Python 3",
   "language": "python",
   "name": "python3"
  },
  "language_info": {
   "codemirror_mode": {
    "name": "ipython",
    "version": 3
   },
   "file_extension": ".py",
   "mimetype": "text/x-python",
   "name": "python",
   "nbconvert_exporter": "python",
   "pygments_lexer": "ipython3",
   "version": "3.7.7"
  }
 },
 "nbformat": 4,
 "nbformat_minor": 4
}
