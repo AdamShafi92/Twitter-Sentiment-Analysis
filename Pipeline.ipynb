{
 "cells": [
  {
   "cell_type": "code",
   "execution_count": 1,
   "metadata": {},
   "outputs": [],
   "source": [
    "import pandas as pd\n",
    "import numpy as np\n",
    "import re\n",
    "import pickle\n",
    "import glob\n",
    "\n",
    "from nltk.tokenize import word_tokenize \n",
    "from nltk.corpus import stopwords as stopwords\n",
    "from nltk.tag import pos_tag\n",
    "from nltk.stem.wordnet import WordNetLemmatizer\n",
    "\n",
    "from ast import literal_eval\n",
    "from nltk import classify\n",
    "from nltk import NaiveBayesClassifier\n",
    "from nltk.classify.scikitlearn import SklearnClassifier\n",
    "from nltk.metrics.scores import (precision, recall, f_measure)\n",
    "from sklearn.naive_bayes import MultinomialNB,BernoulliNB\n",
    "from sklearn.linear_model import LogisticRegression,SGDClassifier\n",
    "from sklearn.svm import SVC\n",
    "import emoji"
   ]
  },
  {
   "cell_type": "markdown",
   "metadata": {},
   "source": [
    "# Full Pandas pipeline that can be used on Search/Stream Twitter API data"
   ]
  },
  {
   "cell_type": "code",
   "execution_count": 2,
   "metadata": {},
   "outputs": [],
   "source": [
    "#load out best performing algorithm\n",
    "clf = pickle.load(open(r'C:\\Users\\AdamShafi\\Twitter Sentiment Analysis\\Pickled Algos\\LogReg_clf.sav', \"rb\"))"
   ]
  },
  {
   "cell_type": "code",
   "execution_count": 3,
   "metadata": {},
   "outputs": [],
   "source": [
    "#load the lexicon\n",
    "with open('all_words.pkl', 'rb') as f:\n",
    "    all_words = pickle.load(f)"
   ]
  },
  {
   "cell_type": "code",
   "execution_count": 17,
   "metadata": {},
   "outputs": [],
   "source": [
    "def preprocess_text(df):\n",
    "    df = df.dropna(subset=['text']) #remove blank tweets\n",
    "    df = df[df.text.str.contains('\\$')] #filter to only cashtags or money\n",
    "    df['text'] = df['text'].str.replace('&amp;', '&', case=False)\n",
    "    df = df[~df.text.str.contains('^RT', regex=True)]  #Remove retweets ### ~ tilde is INVERT - does the opposite\n",
    "    return df\n",
    "\n",
    "def extract_emojis(df):\n",
    "    abc = df['text']\n",
    "    df['emoji'] = ''.join(c for c in abc if c in emoji.UNICODE_EMOJI)\n",
    "    return df\n",
    "\n",
    "def extract_cashtags(df):\n",
    "    a=[]\n",
    "    cashtagsrx = re.compile(r'\\$[A-Z]{2,}')\n",
    "    for i in df['text']:\n",
    "        a.append(cashtagsrx.findall(str(i)))\n",
    "    df['Cashtags'] = a\n",
    "    return df\n",
    "\n",
    "def extract_hashtags(df):\n",
    "    hashtag_list = []\n",
    "    for row in df['hashtags']:\n",
    "        row = literal_eval(row)\n",
    "        x = [x['text'] for x in row if 'text' in x]  \n",
    "        hashtag_list.append(x)\n",
    "    df['hashtag_list']=hashtag_list\n",
    "    return df\n",
    "\n",
    "def remove_pattern(input_txt, pattern):\n",
    "    r = re.findall(pattern, input_txt)\n",
    "    for i in range(len(r)):\n",
    "        r[i] = '\\\\' + r[i]\n",
    "    for i in r:\n",
    "        input_txt = re.sub(i, '', input_txt)\n",
    "    return input_txt\n",
    "\n",
    "def clean_up(df):\n",
    "    df['clean_tweet'] = np.vectorize(remove_pattern)(df['text'], r'\\$[A-Z]{2,}') #remove cashtags\n",
    "    df['clean_tweet'] = df['clean_tweet'].replace(r'http\\S+', '', regex=True).replace(r'www\\S+', '', regex=True) #remove urls\n",
    "    df['clean_tweet'] = df['clean_tweet'].map(lambda x: x.lower()) #lowercase tweet\n",
    "    df['clean_tweet'] = df['clean_tweet'].replace('@[^\\s]+', '', regex=True) #remove @name\n",
    "    df['clean_tweet'] = df['clean_tweet'].str.replace(\"[^a-zA-Z]\", \" \") #remove punctuation\n",
    "    df['clean_tweet'] = df['clean_tweet'].apply(lambda x: ' '.join([w for w in x.split() if len(w)>3])) #remove short words\n",
    "    return df\n",
    "\n",
    "def tokenize(df):\n",
    "    df['clean_tweet'] = df['clean_tweet'].apply(lambda x: word_tokenize(x))\n",
    "    return df\n",
    "    \n",
    "def remove_stopwords(tokenized_list):\n",
    "    stopword = stopwords.words('english')\n",
    "    text = [word for word in tokenized_list if word not in stopword]\n",
    "    return text\n",
    "\n",
    "def apply_remove_stopwords(df):\n",
    "    df['clean_tweet'] = df['clean_tweet'].apply(lambda x: remove_stopwords(x))\n",
    "    df = df.dropna(subset=['clean_tweet'])\n",
    "    return df\n",
    "\n",
    "def lemmatize_sentence(tokens):\n",
    "    lemmatizer = WordNetLemmatizer()\n",
    "    lemmatized_sentence = []\n",
    "    for word, tag in tokens:\n",
    "        if tag.startswith('NN'):\n",
    "            pos = 'n'\n",
    "        elif tag.startswith('VB'):\n",
    "            pos = 'v'\n",
    "        else:\n",
    "            pos = 'a'\n",
    "        lemmatized_sentence.append(lemmatizer.lemmatize(word, pos))\n",
    "    return lemmatized_sentence\n",
    "\n",
    "def apply_lemmatize_sentence(df):\n",
    "    df['clean_tweet'] = df['clean_tweet'].apply(lambda x: pos_tag(x))\n",
    "    df['clean_tweet'] = df['clean_tweet'].apply(lambda x: lemmatize_sentence(x))\n",
    "    return df\n",
    "\n",
    "def all_tokens_for_model(tokens):\n",
    "    return {word: (word in tokens) for word in all_words}\n",
    "\n",
    "def apply_all_tokens_for_model(df):\n",
    "    df['clean_tweet'] = df.apply(lambda x:  all_tokens_for_model(x.clean_tweet), axis=1) \n",
    "    return df\n",
    "\n",
    "def probability_score(data): \n",
    "    dist = clf.prob_classify(data)\n",
    "    Positive = dist.prob('Positive')\n",
    "    Neutral = dist.prob('Neutral')\n",
    "    Negative = dist.prob('Negative')\n",
    "    return Positive, Neutral, Negative\n",
    "    \n",
    "def results(df):\n",
    "    df['sentiment'] = df['clean_tweet'].apply(lambda x:  clf.classify(x))\n",
    "    df['Positive'] = df['clean_tweet'].apply(lambda x:  probability_score(x)[0])\n",
    "    df['Neutral'] = df['clean_tweet'].apply(lambda x:  probability_score(x)[1])\n",
    "    df['Negative'] = df['clean_tweet'].apply(lambda x:  probability_score(x)[2])\n",
    "    return df    \n",
    "    "
   ]
  },
  {
   "cell_type": "markdown",
   "metadata": {},
   "source": [
    "# Apply Pipeline"
   ]
  },
  {
   "cell_type": "code",
   "execution_count": 14,
   "metadata": {},
   "outputs": [],
   "source": [
    "#load multiple csv files into pandas\n",
    "path = r'C:\\Users\\AdamShafi\\Twitter Sentiment Analysis\\Tweets Data'\n",
    "all_files = glob.glob(path + \"/*.csv\")\n",
    "\n",
    "li = []\n",
    "\n",
    "for filename in all_files:\n",
    "    df = pd.read_csv(filename, index_col=None, header=0)\n",
    "    li.append(df)\n",
    "\n",
    "df = pd.concat(li, axis=0, ignore_index=True)"
   ]
  },
  {
   "cell_type": "code",
   "execution_count": 15,
   "metadata": {},
   "outputs": [
    {
     "data": {
      "text/plain": [
       "171485"
      ]
     },
     "execution_count": 15,
     "metadata": {},
     "output_type": "execute_result"
    }
   ],
   "source": [
    "len(df)"
   ]
  },
  {
   "cell_type": "code",
   "execution_count": 18,
   "metadata": {},
   "outputs": [],
   "source": [
    "#apply above functions to clean data and classify\n",
    "df = (df.pipe(preprocess_text)\n",
    "        .pipe(extract_hashtags)\n",
    "        .pipe(extract_emojis)\n",
    "        .pipe(extract_cashtags)\n",
    "        .pipe(clean_up)\n",
    "        .pipe(tokenize)\n",
    "        .pipe(apply_remove_stopwords)\n",
    "        .pipe(apply_lemmatize_sentence)\n",
    "        .pipe(apply_all_tokens_for_model)\n",
    "        .pipe(results)\n",
    "     )"
   ]
  },
  {
   "cell_type": "code",
   "execution_count": 19,
   "metadata": {},
   "outputs": [],
   "source": [
    "df = df.drop(['clean_tweet'], axis=1) #this field is very long and doesn't output well in Excel."
   ]
  },
  {
   "cell_type": "code",
   "execution_count": 20,
   "metadata": {},
   "outputs": [],
   "source": [
    "df.to_csv('results.csv', index=False)"
   ]
  },
  {
   "cell_type": "code",
   "execution_count": null,
   "metadata": {},
   "outputs": [],
   "source": []
  }
 ],
 "metadata": {
  "kernelspec": {
   "display_name": "Python 3",
   "language": "python",
   "name": "python3"
  },
  "language_info": {
   "codemirror_mode": {
    "name": "ipython",
    "version": 3
   },
   "file_extension": ".py",
   "mimetype": "text/x-python",
   "name": "python",
   "nbconvert_exporter": "python",
   "pygments_lexer": "ipython3",
   "version": "3.7.7"
  }
 },
 "nbformat": 4,
 "nbformat_minor": 2
}
